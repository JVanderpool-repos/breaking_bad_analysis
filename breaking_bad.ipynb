{
 "cells": [
  {
   "cell_type": "markdown",
   "metadata": {},
   "source": [
    "Data Analysis M2 Project - \n",
    "Data comes from https://www.kaggle.com/datasets/varpit94/breaking-bad-tv-show-all-seasons-episodes-data\n"
   ]
  },
  {
   "cell_type": "markdown",
   "metadata": {},
   "source": [
    "Looking at the data set to find the Imdb rating per episode."
   ]
  },
  {
   "cell_type": "code",
   "execution_count": 1,
   "metadata": {},
   "outputs": [],
   "source": [
    "import pandas as pd\n",
    "import matplotlib.pyplot as plt\n",
    "\n"
   ]
  },
  {
   "cell_type": "markdown",
   "metadata": {},
   "source": [
    "Importing the data."
   ]
  },
  {
   "cell_type": "code",
   "execution_count": 2,
   "metadata": {},
   "outputs": [],
   "source": [
    "breaking_bad = pd.read_csv(\"breaking_bad.csv\", encoding = \"latin-1\")\n",
    "\n"
   ]
  },
  {
   "cell_type": "markdown",
   "metadata": {},
   "source": [
    "Displaying the data's head and tail."
   ]
  },
  {
   "cell_type": "code",
   "execution_count": 3,
   "metadata": {},
   "outputs": [
    {
     "data": {
      "text/html": [
       "<div>\n",
       "<style scoped>\n",
       "    .dataframe tbody tr th:only-of-type {\n",
       "        vertical-align: middle;\n",
       "    }\n",
       "\n",
       "    .dataframe tbody tr th {\n",
       "        vertical-align: top;\n",
       "    }\n",
       "\n",
       "    .dataframe thead th {\n",
       "        text-align: right;\n",
       "    }\n",
       "</style>\n",
       "<table border=\"1\" class=\"dataframe\">\n",
       "  <thead>\n",
       "    <tr style=\"text-align: right;\">\n",
       "      <th></th>\n",
       "      <th>Date</th>\n",
       "      <th>Season</th>\n",
       "      <th>Episode</th>\n",
       "      <th>Title</th>\n",
       "      <th>Directed by</th>\n",
       "      <th>Written by</th>\n",
       "      <th>Duration_mins</th>\n",
       "      <th>Summary</th>\n",
       "      <th>Rating_IMDB</th>\n",
       "      <th>U.S. viewers_million</th>\n",
       "    </tr>\n",
       "  </thead>\n",
       "  <tbody>\n",
       "    <tr>\n",
       "      <th>0</th>\n",
       "      <td>20-Jan-08</td>\n",
       "      <td>1</td>\n",
       "      <td>1</td>\n",
       "      <td>Pilot</td>\n",
       "      <td>Vince Gilligan</td>\n",
       "      <td>Vince Gilligan</td>\n",
       "      <td>58</td>\n",
       "      <td>Diagnosed with terminal lung cancer, chemistry...</td>\n",
       "      <td>9.1</td>\n",
       "      <td>1.41</td>\n",
       "    </tr>\n",
       "    <tr>\n",
       "      <th>1</th>\n",
       "      <td>27-Jan-08</td>\n",
       "      <td>1</td>\n",
       "      <td>2</td>\n",
       "      <td>Cat's in the Bag...</td>\n",
       "      <td>Adam Bernstein</td>\n",
       "      <td>Vince Gilligan</td>\n",
       "      <td>48</td>\n",
       "      <td>After their first drug deal goes terribly wron...</td>\n",
       "      <td>8.7</td>\n",
       "      <td>1.49</td>\n",
       "    </tr>\n",
       "    <tr>\n",
       "      <th>2</th>\n",
       "      <td>10-Feb-08</td>\n",
       "      <td>1</td>\n",
       "      <td>3</td>\n",
       "      <td>...And the Bag's in the River</td>\n",
       "      <td>Adam Bernstein</td>\n",
       "      <td>Vince Gilligan</td>\n",
       "      <td>48</td>\n",
       "      <td>Walt and Jesse clean up after the bathtub inci...</td>\n",
       "      <td>8.8</td>\n",
       "      <td>1.08</td>\n",
       "    </tr>\n",
       "    <tr>\n",
       "      <th>3</th>\n",
       "      <td>17-Feb-08</td>\n",
       "      <td>1</td>\n",
       "      <td>4</td>\n",
       "      <td>Cancer Man</td>\n",
       "      <td>Jim McKay</td>\n",
       "      <td>Vince Gilligan</td>\n",
       "      <td>48</td>\n",
       "      <td>Walt tells the rest of his family about his ca...</td>\n",
       "      <td>8.3</td>\n",
       "      <td>1.09</td>\n",
       "    </tr>\n",
       "    <tr>\n",
       "      <th>4</th>\n",
       "      <td>24-Feb-08</td>\n",
       "      <td>1</td>\n",
       "      <td>5</td>\n",
       "      <td>Gray Matter</td>\n",
       "      <td>Tricia Brock</td>\n",
       "      <td>Vince Gilligan, Patty Lin</td>\n",
       "      <td>48</td>\n",
       "      <td>Walt rejects everyone who tries to help him wi...</td>\n",
       "      <td>8.4</td>\n",
       "      <td>0.97</td>\n",
       "    </tr>\n",
       "  </tbody>\n",
       "</table>\n",
       "</div>"
      ],
      "text/plain": [
       "        Date  Season  Episode                          Title     Directed by  \\\n",
       "0  20-Jan-08       1        1                          Pilot  Vince Gilligan   \n",
       "1  27-Jan-08       1        2            Cat's in the Bag...  Adam Bernstein   \n",
       "2  10-Feb-08       1        3  ...And the Bag's in the River  Adam Bernstein   \n",
       "3  17-Feb-08       1        4                     Cancer Man       Jim McKay   \n",
       "4  24-Feb-08       1        5                    Gray Matter    Tricia Brock   \n",
       "\n",
       "                  Written by  Duration_mins  \\\n",
       "0             Vince Gilligan             58   \n",
       "1             Vince Gilligan             48   \n",
       "2             Vince Gilligan             48   \n",
       "3             Vince Gilligan             48   \n",
       "4  Vince Gilligan, Patty Lin             48   \n",
       "\n",
       "                                             Summary  Rating_IMDB  \\\n",
       "0  Diagnosed with terminal lung cancer, chemistry...          9.1   \n",
       "1  After their first drug deal goes terribly wron...          8.7   \n",
       "2  Walt and Jesse clean up after the bathtub inci...          8.8   \n",
       "3  Walt tells the rest of his family about his ca...          8.3   \n",
       "4  Walt rejects everyone who tries to help him wi...          8.4   \n",
       "\n",
       "   U.S. viewers_million  \n",
       "0                  1.41  \n",
       "1                  1.49  \n",
       "2                  1.08  \n",
       "3                  1.09  \n",
       "4                  0.97  "
      ]
     },
     "execution_count": 3,
     "metadata": {},
     "output_type": "execute_result"
    }
   ],
   "source": [
    "breaking_bad.head(5)"
   ]
  },
  {
   "cell_type": "code",
   "execution_count": 4,
   "metadata": {},
   "outputs": [
    {
     "data": {
      "text/html": [
       "<div>\n",
       "<style scoped>\n",
       "    .dataframe tbody tr th:only-of-type {\n",
       "        vertical-align: middle;\n",
       "    }\n",
       "\n",
       "    .dataframe tbody tr th {\n",
       "        vertical-align: top;\n",
       "    }\n",
       "\n",
       "    .dataframe thead th {\n",
       "        text-align: right;\n",
       "    }\n",
       "</style>\n",
       "<table border=\"1\" class=\"dataframe\">\n",
       "  <thead>\n",
       "    <tr style=\"text-align: right;\">\n",
       "      <th></th>\n",
       "      <th>Date</th>\n",
       "      <th>Season</th>\n",
       "      <th>Episode</th>\n",
       "      <th>Title</th>\n",
       "      <th>Directed by</th>\n",
       "      <th>Written by</th>\n",
       "      <th>Duration_mins</th>\n",
       "      <th>Summary</th>\n",
       "      <th>Rating_IMDB</th>\n",
       "      <th>U.S. viewers_million</th>\n",
       "    </tr>\n",
       "  </thead>\n",
       "  <tbody>\n",
       "    <tr>\n",
       "      <th>57</th>\n",
       "      <td>01-Sep-13</td>\n",
       "      <td>5</td>\n",
       "      <td>12</td>\n",
       "      <td>Rabid Dog</td>\n",
       "      <td>Sam Catlin</td>\n",
       "      <td>Vince Gilligan, Sam Catlin</td>\n",
       "      <td>48</td>\n",
       "      <td>Walt discovers Jesse broke into his house and ...</td>\n",
       "      <td>9.2</td>\n",
       "      <td>4.41</td>\n",
       "    </tr>\n",
       "    <tr>\n",
       "      <th>58</th>\n",
       "      <td>08-Sep-13</td>\n",
       "      <td>5</td>\n",
       "      <td>13</td>\n",
       "      <td>To'hajiilee</td>\n",
       "      <td>Michelle MacLaren</td>\n",
       "      <td>Vince Gilligan, George Mastras</td>\n",
       "      <td>47</td>\n",
       "      <td>Jesse and Hank come up with an idea to take Wa...</td>\n",
       "      <td>9.8</td>\n",
       "      <td>5.11</td>\n",
       "    </tr>\n",
       "    <tr>\n",
       "      <th>59</th>\n",
       "      <td>15-Sep-13</td>\n",
       "      <td>5</td>\n",
       "      <td>14</td>\n",
       "      <td>Ozymandias</td>\n",
       "      <td>Rian Johnson</td>\n",
       "      <td>Vince Gilligan, Moira Walley-Beckett</td>\n",
       "      <td>48</td>\n",
       "      <td>Walt goes on the run. Jesse is taken hostage. ...</td>\n",
       "      <td>10.0</td>\n",
       "      <td>6.37</td>\n",
       "    </tr>\n",
       "    <tr>\n",
       "      <th>60</th>\n",
       "      <td>22-Sep-13</td>\n",
       "      <td>5</td>\n",
       "      <td>15</td>\n",
       "      <td>Granite State</td>\n",
       "      <td>Peter Gould</td>\n",
       "      <td>Vince Gilligan, Peter Gould</td>\n",
       "      <td>55</td>\n",
       "      <td>Walt struggles as he adapts to aspects of his ...</td>\n",
       "      <td>9.7</td>\n",
       "      <td>6.58</td>\n",
       "    </tr>\n",
       "    <tr>\n",
       "      <th>61</th>\n",
       "      <td>29-Sep-13</td>\n",
       "      <td>5</td>\n",
       "      <td>16</td>\n",
       "      <td>Felina</td>\n",
       "      <td>Vince Gilligan</td>\n",
       "      <td>Vince Gilligan</td>\n",
       "      <td>55</td>\n",
       "      <td>Walter White makes one last attempt to secure ...</td>\n",
       "      <td>9.9</td>\n",
       "      <td>10.28</td>\n",
       "    </tr>\n",
       "  </tbody>\n",
       "</table>\n",
       "</div>"
      ],
      "text/plain": [
       "         Date  Season  Episode          Title        Directed by  \\\n",
       "57  01-Sep-13       5       12      Rabid Dog         Sam Catlin   \n",
       "58  08-Sep-13       5       13    To'hajiilee  Michelle MacLaren   \n",
       "59  15-Sep-13       5       14     Ozymandias       Rian Johnson   \n",
       "60  22-Sep-13       5       15  Granite State        Peter Gould   \n",
       "61  29-Sep-13       5       16         Felina     Vince Gilligan   \n",
       "\n",
       "                              Written by  Duration_mins  \\\n",
       "57            Vince Gilligan, Sam Catlin             48   \n",
       "58        Vince Gilligan, George Mastras             47   \n",
       "59  Vince Gilligan, Moira Walley-Beckett             48   \n",
       "60           Vince Gilligan, Peter Gould             55   \n",
       "61                        Vince Gilligan             55   \n",
       "\n",
       "                                              Summary  Rating_IMDB  \\\n",
       "57  Walt discovers Jesse broke into his house and ...          9.2   \n",
       "58  Jesse and Hank come up with an idea to take Wa...          9.8   \n",
       "59  Walt goes on the run. Jesse is taken hostage. ...         10.0   \n",
       "60  Walt struggles as he adapts to aspects of his ...          9.7   \n",
       "61  Walter White makes one last attempt to secure ...          9.9   \n",
       "\n",
       "    U.S. viewers_million  \n",
       "57                  4.41  \n",
       "58                  5.11  \n",
       "59                  6.37  \n",
       "60                  6.58  \n",
       "61                 10.28  "
      ]
     },
     "execution_count": 4,
     "metadata": {},
     "output_type": "execute_result"
    }
   ],
   "source": [
    "breaking_bad.tail(5)"
   ]
  },
  {
   "cell_type": "markdown",
   "metadata": {},
   "source": [
    "Checking column names."
   ]
  },
  {
   "cell_type": "code",
   "execution_count": 5,
   "metadata": {},
   "outputs": [
    {
     "data": {
      "text/plain": [
       "Index(['Date', 'Season', 'Episode', 'Title', 'Directed by', 'Written by',\n",
       "       'Duration_mins', 'Summary', 'Rating_IMDB', 'U.S. viewers_million'],\n",
       "      dtype='object')"
      ]
     },
     "execution_count": 5,
     "metadata": {},
     "output_type": "execute_result"
    }
   ],
   "source": [
    "breaking_bad.columns"
   ]
  },
  {
   "cell_type": "markdown",
   "metadata": {},
   "source": [
    "Cleaning column names."
   ]
  },
  {
   "cell_type": "code",
   "execution_count": 6,
   "metadata": {},
   "outputs": [
    {
     "data": {
      "text/plain": [
       "Index(['Date', 'Season', 'Episode', 'Title', 'Directed By', 'Written By',\n",
       "       'Duration Mins', 'Summary', 'Rating Imdb', 'U.S. Viewers Million'],\n",
       "      dtype='object')"
      ]
     },
     "execution_count": 6,
     "metadata": {},
     "output_type": "execute_result"
    }
   ],
   "source": [
    "breaking_bad.columns = breaking_bad.columns.str.title() .str.strip() .str.replace('_', ' ')\n",
    "breaking_bad.columns "
   ]
  },
  {
   "cell_type": "markdown",
   "metadata": {},
   "source": [
    "Changing the date to datetime."
   ]
  },
  {
   "cell_type": "code",
   "execution_count": 7,
   "metadata": {},
   "outputs": [
    {
     "data": {
      "text/html": [
       "<div>\n",
       "<style scoped>\n",
       "    .dataframe tbody tr th:only-of-type {\n",
       "        vertical-align: middle;\n",
       "    }\n",
       "\n",
       "    .dataframe tbody tr th {\n",
       "        vertical-align: top;\n",
       "    }\n",
       "\n",
       "    .dataframe thead th {\n",
       "        text-align: right;\n",
       "    }\n",
       "</style>\n",
       "<table border=\"1\" class=\"dataframe\">\n",
       "  <thead>\n",
       "    <tr style=\"text-align: right;\">\n",
       "      <th></th>\n",
       "      <th>Date</th>\n",
       "      <th>Season</th>\n",
       "      <th>Episode</th>\n",
       "      <th>Title</th>\n",
       "      <th>Directed By</th>\n",
       "      <th>Written By</th>\n",
       "      <th>Duration Mins</th>\n",
       "      <th>Summary</th>\n",
       "      <th>Rating Imdb</th>\n",
       "      <th>U.S. Viewers Million</th>\n",
       "    </tr>\n",
       "  </thead>\n",
       "  <tbody>\n",
       "    <tr>\n",
       "      <th>0</th>\n",
       "      <td>2008-01-20</td>\n",
       "      <td>1</td>\n",
       "      <td>1</td>\n",
       "      <td>Pilot</td>\n",
       "      <td>Vince Gilligan</td>\n",
       "      <td>Vince Gilligan</td>\n",
       "      <td>58</td>\n",
       "      <td>Diagnosed with terminal lung cancer, chemistry...</td>\n",
       "      <td>9.1</td>\n",
       "      <td>1.41</td>\n",
       "    </tr>\n",
       "    <tr>\n",
       "      <th>1</th>\n",
       "      <td>2008-01-27</td>\n",
       "      <td>1</td>\n",
       "      <td>2</td>\n",
       "      <td>Cat's in the Bag...</td>\n",
       "      <td>Adam Bernstein</td>\n",
       "      <td>Vince Gilligan</td>\n",
       "      <td>48</td>\n",
       "      <td>After their first drug deal goes terribly wron...</td>\n",
       "      <td>8.7</td>\n",
       "      <td>1.49</td>\n",
       "    </tr>\n",
       "    <tr>\n",
       "      <th>2</th>\n",
       "      <td>2008-02-10</td>\n",
       "      <td>1</td>\n",
       "      <td>3</td>\n",
       "      <td>...And the Bag's in the River</td>\n",
       "      <td>Adam Bernstein</td>\n",
       "      <td>Vince Gilligan</td>\n",
       "      <td>48</td>\n",
       "      <td>Walt and Jesse clean up after the bathtub inci...</td>\n",
       "      <td>8.8</td>\n",
       "      <td>1.08</td>\n",
       "    </tr>\n",
       "    <tr>\n",
       "      <th>3</th>\n",
       "      <td>2008-02-17</td>\n",
       "      <td>1</td>\n",
       "      <td>4</td>\n",
       "      <td>Cancer Man</td>\n",
       "      <td>Jim McKay</td>\n",
       "      <td>Vince Gilligan</td>\n",
       "      <td>48</td>\n",
       "      <td>Walt tells the rest of his family about his ca...</td>\n",
       "      <td>8.3</td>\n",
       "      <td>1.09</td>\n",
       "    </tr>\n",
       "    <tr>\n",
       "      <th>4</th>\n",
       "      <td>2008-02-24</td>\n",
       "      <td>1</td>\n",
       "      <td>5</td>\n",
       "      <td>Gray Matter</td>\n",
       "      <td>Tricia Brock</td>\n",
       "      <td>Vince Gilligan, Patty Lin</td>\n",
       "      <td>48</td>\n",
       "      <td>Walt rejects everyone who tries to help him wi...</td>\n",
       "      <td>8.4</td>\n",
       "      <td>0.97</td>\n",
       "    </tr>\n",
       "  </tbody>\n",
       "</table>\n",
       "</div>"
      ],
      "text/plain": [
       "        Date  Season  Episode                          Title     Directed By  \\\n",
       "0 2008-01-20       1        1                          Pilot  Vince Gilligan   \n",
       "1 2008-01-27       1        2            Cat's in the Bag...  Adam Bernstein   \n",
       "2 2008-02-10       1        3  ...And the Bag's in the River  Adam Bernstein   \n",
       "3 2008-02-17       1        4                     Cancer Man       Jim McKay   \n",
       "4 2008-02-24       1        5                    Gray Matter    Tricia Brock   \n",
       "\n",
       "                  Written By  Duration Mins  \\\n",
       "0             Vince Gilligan             58   \n",
       "1             Vince Gilligan             48   \n",
       "2             Vince Gilligan             48   \n",
       "3             Vince Gilligan             48   \n",
       "4  Vince Gilligan, Patty Lin             48   \n",
       "\n",
       "                                             Summary  Rating Imdb  \\\n",
       "0  Diagnosed with terminal lung cancer, chemistry...          9.1   \n",
       "1  After their first drug deal goes terribly wron...          8.7   \n",
       "2  Walt and Jesse clean up after the bathtub inci...          8.8   \n",
       "3  Walt tells the rest of his family about his ca...          8.3   \n",
       "4  Walt rejects everyone who tries to help him wi...          8.4   \n",
       "\n",
       "   U.S. Viewers Million  \n",
       "0                  1.41  \n",
       "1                  1.49  \n",
       "2                  1.08  \n",
       "3                  1.09  \n",
       "4                  0.97  "
      ]
     },
     "execution_count": 7,
     "metadata": {},
     "output_type": "execute_result"
    }
   ],
   "source": [
    "breaking_bad['Date'] = pd.to_datetime(breaking_bad['Date'], format='mixed')\n",
    "breaking_bad.head(5)"
   ]
  },
  {
   "cell_type": "markdown",
   "metadata": {},
   "source": [
    "Creating a new column that combines the season and episode columns together."
   ]
  },
  {
   "cell_type": "code",
   "execution_count": 8,
   "metadata": {},
   "outputs": [
    {
     "data": {
      "text/html": [
       "<div>\n",
       "<style scoped>\n",
       "    .dataframe tbody tr th:only-of-type {\n",
       "        vertical-align: middle;\n",
       "    }\n",
       "\n",
       "    .dataframe tbody tr th {\n",
       "        vertical-align: top;\n",
       "    }\n",
       "\n",
       "    .dataframe thead th {\n",
       "        text-align: right;\n",
       "    }\n",
       "</style>\n",
       "<table border=\"1\" class=\"dataframe\">\n",
       "  <thead>\n",
       "    <tr style=\"text-align: right;\">\n",
       "      <th></th>\n",
       "      <th>Date</th>\n",
       "      <th>Season</th>\n",
       "      <th>Episode</th>\n",
       "      <th>Title</th>\n",
       "      <th>Directed By</th>\n",
       "      <th>Written By</th>\n",
       "      <th>Duration Mins</th>\n",
       "      <th>Summary</th>\n",
       "      <th>Rating Imdb</th>\n",
       "      <th>U.S. Viewers Million</th>\n",
       "      <th>Season Episode</th>\n",
       "    </tr>\n",
       "  </thead>\n",
       "  <tbody>\n",
       "    <tr>\n",
       "      <th>57</th>\n",
       "      <td>2013-09-01</td>\n",
       "      <td>5</td>\n",
       "      <td>12</td>\n",
       "      <td>Rabid Dog</td>\n",
       "      <td>Sam Catlin</td>\n",
       "      <td>Vince Gilligan, Sam Catlin</td>\n",
       "      <td>48</td>\n",
       "      <td>Walt discovers Jesse broke into his house and ...</td>\n",
       "      <td>9.2</td>\n",
       "      <td>4.41</td>\n",
       "      <td>5/12</td>\n",
       "    </tr>\n",
       "    <tr>\n",
       "      <th>58</th>\n",
       "      <td>2013-09-08</td>\n",
       "      <td>5</td>\n",
       "      <td>13</td>\n",
       "      <td>To'hajiilee</td>\n",
       "      <td>Michelle MacLaren</td>\n",
       "      <td>Vince Gilligan, George Mastras</td>\n",
       "      <td>47</td>\n",
       "      <td>Jesse and Hank come up with an idea to take Wa...</td>\n",
       "      <td>9.8</td>\n",
       "      <td>5.11</td>\n",
       "      <td>5/13</td>\n",
       "    </tr>\n",
       "    <tr>\n",
       "      <th>59</th>\n",
       "      <td>2013-09-15</td>\n",
       "      <td>5</td>\n",
       "      <td>14</td>\n",
       "      <td>Ozymandias</td>\n",
       "      <td>Rian Johnson</td>\n",
       "      <td>Vince Gilligan, Moira Walley-Beckett</td>\n",
       "      <td>48</td>\n",
       "      <td>Walt goes on the run. Jesse is taken hostage. ...</td>\n",
       "      <td>10.0</td>\n",
       "      <td>6.37</td>\n",
       "      <td>5/14</td>\n",
       "    </tr>\n",
       "    <tr>\n",
       "      <th>60</th>\n",
       "      <td>2013-09-22</td>\n",
       "      <td>5</td>\n",
       "      <td>15</td>\n",
       "      <td>Granite State</td>\n",
       "      <td>Peter Gould</td>\n",
       "      <td>Vince Gilligan, Peter Gould</td>\n",
       "      <td>55</td>\n",
       "      <td>Walt struggles as he adapts to aspects of his ...</td>\n",
       "      <td>9.7</td>\n",
       "      <td>6.58</td>\n",
       "      <td>5/15</td>\n",
       "    </tr>\n",
       "    <tr>\n",
       "      <th>61</th>\n",
       "      <td>2013-09-29</td>\n",
       "      <td>5</td>\n",
       "      <td>16</td>\n",
       "      <td>Felina</td>\n",
       "      <td>Vince Gilligan</td>\n",
       "      <td>Vince Gilligan</td>\n",
       "      <td>55</td>\n",
       "      <td>Walter White makes one last attempt to secure ...</td>\n",
       "      <td>9.9</td>\n",
       "      <td>10.28</td>\n",
       "      <td>5/16</td>\n",
       "    </tr>\n",
       "  </tbody>\n",
       "</table>\n",
       "</div>"
      ],
      "text/plain": [
       "         Date  Season  Episode          Title        Directed By  \\\n",
       "57 2013-09-01       5       12      Rabid Dog         Sam Catlin   \n",
       "58 2013-09-08       5       13    To'hajiilee  Michelle MacLaren   \n",
       "59 2013-09-15       5       14     Ozymandias       Rian Johnson   \n",
       "60 2013-09-22       5       15  Granite State        Peter Gould   \n",
       "61 2013-09-29       5       16         Felina     Vince Gilligan   \n",
       "\n",
       "                              Written By  Duration Mins  \\\n",
       "57            Vince Gilligan, Sam Catlin             48   \n",
       "58        Vince Gilligan, George Mastras             47   \n",
       "59  Vince Gilligan, Moira Walley-Beckett             48   \n",
       "60           Vince Gilligan, Peter Gould             55   \n",
       "61                        Vince Gilligan             55   \n",
       "\n",
       "                                              Summary  Rating Imdb  \\\n",
       "57  Walt discovers Jesse broke into his house and ...          9.2   \n",
       "58  Jesse and Hank come up with an idea to take Wa...          9.8   \n",
       "59  Walt goes on the run. Jesse is taken hostage. ...         10.0   \n",
       "60  Walt struggles as he adapts to aspects of his ...          9.7   \n",
       "61  Walter White makes one last attempt to secure ...          9.9   \n",
       "\n",
       "    U.S. Viewers Million Season Episode  \n",
       "57                  4.41           5/12  \n",
       "58                  5.11           5/13  \n",
       "59                  6.37           5/14  \n",
       "60                  6.58           5/15  \n",
       "61                 10.28           5/16  "
      ]
     },
     "execution_count": 8,
     "metadata": {},
     "output_type": "execute_result"
    }
   ],
   "source": [
    "breaking_bad['Season Episode'] = breaking_bad['Season'].astype(str) + '/' + breaking_bad['Episode'].astype(str).str.zfill(2)\n",
    "breaking_bad.tail(5)\n"
   ]
  },
  {
   "cell_type": "markdown",
   "metadata": {},
   "source": [
    "Dataframe info."
   ]
  },
  {
   "cell_type": "code",
   "execution_count": 9,
   "metadata": {},
   "outputs": [
    {
     "name": "stdout",
     "output_type": "stream",
     "text": [
      "<class 'pandas.core.frame.DataFrame'>\n",
      "RangeIndex: 62 entries, 0 to 61\n",
      "Data columns (total 11 columns):\n",
      " #   Column                Non-Null Count  Dtype         \n",
      "---  ------                --------------  -----         \n",
      " 0   Date                  62 non-null     datetime64[ns]\n",
      " 1   Season                62 non-null     int64         \n",
      " 2   Episode               62 non-null     int64         \n",
      " 3   Title                 62 non-null     object        \n",
      " 4   Directed By           62 non-null     object        \n",
      " 5   Written By            62 non-null     object        \n",
      " 6   Duration Mins         62 non-null     int64         \n",
      " 7   Summary               62 non-null     object        \n",
      " 8   Rating Imdb           62 non-null     float64       \n",
      " 9   U.S. Viewers Million  57 non-null     float64       \n",
      " 10  Season Episode        62 non-null     object        \n",
      "dtypes: datetime64[ns](1), float64(2), int64(3), object(5)\n",
      "memory usage: 5.5+ KB\n"
     ]
    }
   ],
   "source": [
    "breaking_bad.info()"
   ]
  },
  {
   "cell_type": "markdown",
   "metadata": {},
   "source": [
    "Stats of all the numerical values."
   ]
  },
  {
   "cell_type": "code",
   "execution_count": 10,
   "metadata": {},
   "outputs": [
    {
     "data": {
      "text/html": [
       "<div>\n",
       "<style scoped>\n",
       "    .dataframe tbody tr th:only-of-type {\n",
       "        vertical-align: middle;\n",
       "    }\n",
       "\n",
       "    .dataframe tbody tr th {\n",
       "        vertical-align: top;\n",
       "    }\n",
       "\n",
       "    .dataframe thead th {\n",
       "        text-align: right;\n",
       "    }\n",
       "</style>\n",
       "<table border=\"1\" class=\"dataframe\">\n",
       "  <thead>\n",
       "    <tr style=\"text-align: right;\">\n",
       "      <th></th>\n",
       "      <th>Date</th>\n",
       "      <th>Season</th>\n",
       "      <th>Episode</th>\n",
       "      <th>Duration Mins</th>\n",
       "      <th>Rating Imdb</th>\n",
       "      <th>U.S. Viewers Million</th>\n",
       "    </tr>\n",
       "  </thead>\n",
       "  <tbody>\n",
       "    <tr>\n",
       "      <th>count</th>\n",
       "      <td>62</td>\n",
       "      <td>62.000000</td>\n",
       "      <td>62.000000</td>\n",
       "      <td>62.000000</td>\n",
       "      <td>62.000000</td>\n",
       "      <td>57.000000</td>\n",
       "    </tr>\n",
       "    <tr>\n",
       "      <th>mean</th>\n",
       "      <td>2010-11-13 13:09:40.645161216</td>\n",
       "      <td>3.290323</td>\n",
       "      <td>7.048387</td>\n",
       "      <td>47.919355</td>\n",
       "      <td>9.022581</td>\n",
       "      <td>2.324386</td>\n",
       "    </tr>\n",
       "    <tr>\n",
       "      <th>min</th>\n",
       "      <td>2008-01-20 00:00:00</td>\n",
       "      <td>1.000000</td>\n",
       "      <td>1.000000</td>\n",
       "      <td>43.000000</td>\n",
       "      <td>7.800000</td>\n",
       "      <td>0.970000</td>\n",
       "    </tr>\n",
       "    <tr>\n",
       "      <th>25%</th>\n",
       "      <td>2009-05-04 18:00:00</td>\n",
       "      <td>2.000000</td>\n",
       "      <td>4.000000</td>\n",
       "      <td>47.000000</td>\n",
       "      <td>8.700000</td>\n",
       "      <td>1.460000</td>\n",
       "    </tr>\n",
       "    <tr>\n",
       "      <th>50%</th>\n",
       "      <td>2010-06-02 12:00:00</td>\n",
       "      <td>3.000000</td>\n",
       "      <td>7.000000</td>\n",
       "      <td>47.000000</td>\n",
       "      <td>8.900000</td>\n",
       "      <td>1.710000</td>\n",
       "    </tr>\n",
       "    <tr>\n",
       "      <th>75%</th>\n",
       "      <td>2012-05-06 00:00:00</td>\n",
       "      <td>4.750000</td>\n",
       "      <td>10.000000</td>\n",
       "      <td>48.000000</td>\n",
       "      <td>9.450000</td>\n",
       "      <td>2.290000</td>\n",
       "    </tr>\n",
       "    <tr>\n",
       "      <th>max</th>\n",
       "      <td>2013-09-29 00:00:00</td>\n",
       "      <td>5.000000</td>\n",
       "      <td>16.000000</td>\n",
       "      <td>60.000000</td>\n",
       "      <td>10.000000</td>\n",
       "      <td>10.280000</td>\n",
       "    </tr>\n",
       "    <tr>\n",
       "      <th>std</th>\n",
       "      <td>NaN</td>\n",
       "      <td>1.359690</td>\n",
       "      <td>4.074822</td>\n",
       "      <td>2.632074</td>\n",
       "      <td>0.511962</td>\n",
       "      <td>1.719224</td>\n",
       "    </tr>\n",
       "  </tbody>\n",
       "</table>\n",
       "</div>"
      ],
      "text/plain": [
       "                                Date     Season    Episode  Duration Mins  \\\n",
       "count                             62  62.000000  62.000000      62.000000   \n",
       "mean   2010-11-13 13:09:40.645161216   3.290323   7.048387      47.919355   \n",
       "min              2008-01-20 00:00:00   1.000000   1.000000      43.000000   \n",
       "25%              2009-05-04 18:00:00   2.000000   4.000000      47.000000   \n",
       "50%              2010-06-02 12:00:00   3.000000   7.000000      47.000000   \n",
       "75%              2012-05-06 00:00:00   4.750000  10.000000      48.000000   \n",
       "max              2013-09-29 00:00:00   5.000000  16.000000      60.000000   \n",
       "std                              NaN   1.359690   4.074822       2.632074   \n",
       "\n",
       "       Rating Imdb  U.S. Viewers Million  \n",
       "count    62.000000             57.000000  \n",
       "mean      9.022581              2.324386  \n",
       "min       7.800000              0.970000  \n",
       "25%       8.700000              1.460000  \n",
       "50%       8.900000              1.710000  \n",
       "75%       9.450000              2.290000  \n",
       "max      10.000000             10.280000  \n",
       "std       0.511962              1.719224  "
      ]
     },
     "execution_count": 10,
     "metadata": {},
     "output_type": "execute_result"
    }
   ],
   "source": [
    "breaking_bad.describe()"
   ]
  },
  {
   "cell_type": "markdown",
   "metadata": {},
   "source": [
    "Checking for nulls or na data."
   ]
  },
  {
   "cell_type": "code",
   "execution_count": 11,
   "metadata": {},
   "outputs": [
    {
     "data": {
      "text/plain": [
       "Date                    0\n",
       "Season                  0\n",
       "Episode                 0\n",
       "Title                   0\n",
       "Directed By             0\n",
       "Written By              0\n",
       "Duration Mins           0\n",
       "Summary                 0\n",
       "Rating Imdb             0\n",
       "U.S. Viewers Million    5\n",
       "Season Episode          0\n",
       "dtype: int64"
      ]
     },
     "execution_count": 11,
     "metadata": {},
     "output_type": "execute_result"
    }
   ],
   "source": [
    "breaking_bad.isna().sum()"
   ]
  },
  {
   "cell_type": "markdown",
   "metadata": {},
   "source": [
    "Filling missing values with the mean of viewership."
   ]
  },
  {
   "cell_type": "code",
   "execution_count": 12,
   "metadata": {},
   "outputs": [
    {
     "name": "stderr",
     "output_type": "stream",
     "text": [
      "C:\\Users\\vpool\\AppData\\Local\\Temp\\ipykernel_19468\\4150376568.py:1: FutureWarning: A value is trying to be set on a copy of a DataFrame or Series through chained assignment using an inplace method.\n",
      "The behavior will change in pandas 3.0. This inplace method will never work because the intermediate object on which we are setting values always behaves as a copy.\n",
      "\n",
      "For example, when doing 'df[col].method(value, inplace=True)', try using 'df.method({col: value}, inplace=True)' or df[col] = df[col].method(value) instead, to perform the operation inplace on the original object.\n",
      "\n",
      "\n",
      "  breaking_bad['U.S. Viewers Million'].fillna(breaking_bad['U.S. Viewers Million'].mean(), inplace=True)\n"
     ]
    }
   ],
   "source": [
    "breaking_bad['U.S. Viewers Million'].fillna(breaking_bad['U.S. Viewers Million'].mean(), inplace=True)"
   ]
  },
  {
   "cell_type": "markdown",
   "metadata": {},
   "source": [
    "Feature engineering: create 'Season Episode' and 'Extracted Season'"
   ]
  },
  {
   "cell_type": "code",
   "execution_count": 13,
   "metadata": {},
   "outputs": [],
   "source": [
    "breaking_bad['Season Episode'] = breaking_bad['Season'].astype(str) + '/' + breaking_bad['Episode'].astype(str).str.zfill(2)\n",
    "breaking_bad['Extracted Season'] = breaking_bad['Season Episode'].str.extract(r'(\\d+)/')[0].astype(int)\n",
    "\n"
   ]
  },
  {
   "cell_type": "markdown",
   "metadata": {},
   "source": [
    "Removing unnecessary columns."
   ]
  },
  {
   "cell_type": "code",
   "execution_count": 14,
   "metadata": {},
   "outputs": [
    {
     "data": {
      "text/html": [
       "<div>\n",
       "<style scoped>\n",
       "    .dataframe tbody tr th:only-of-type {\n",
       "        vertical-align: middle;\n",
       "    }\n",
       "\n",
       "    .dataframe tbody tr th {\n",
       "        vertical-align: top;\n",
       "    }\n",
       "\n",
       "    .dataframe thead th {\n",
       "        text-align: right;\n",
       "    }\n",
       "</style>\n",
       "<table border=\"1\" class=\"dataframe\">\n",
       "  <thead>\n",
       "    <tr style=\"text-align: right;\">\n",
       "      <th></th>\n",
       "      <th>Date</th>\n",
       "      <th>Rating Imdb</th>\n",
       "      <th>U.S. Viewers Million</th>\n",
       "      <th>Season Episode</th>\n",
       "      <th>Extracted Season</th>\n",
       "    </tr>\n",
       "  </thead>\n",
       "  <tbody>\n",
       "    <tr>\n",
       "      <th>0</th>\n",
       "      <td>2008-01-20</td>\n",
       "      <td>9.1</td>\n",
       "      <td>1.41</td>\n",
       "      <td>1/01</td>\n",
       "      <td>1</td>\n",
       "    </tr>\n",
       "    <tr>\n",
       "      <th>1</th>\n",
       "      <td>2008-01-27</td>\n",
       "      <td>8.7</td>\n",
       "      <td>1.49</td>\n",
       "      <td>1/02</td>\n",
       "      <td>1</td>\n",
       "    </tr>\n",
       "    <tr>\n",
       "      <th>2</th>\n",
       "      <td>2008-02-10</td>\n",
       "      <td>8.8</td>\n",
       "      <td>1.08</td>\n",
       "      <td>1/03</td>\n",
       "      <td>1</td>\n",
       "    </tr>\n",
       "    <tr>\n",
       "      <th>3</th>\n",
       "      <td>2008-02-17</td>\n",
       "      <td>8.3</td>\n",
       "      <td>1.09</td>\n",
       "      <td>1/04</td>\n",
       "      <td>1</td>\n",
       "    </tr>\n",
       "    <tr>\n",
       "      <th>4</th>\n",
       "      <td>2008-02-24</td>\n",
       "      <td>8.4</td>\n",
       "      <td>0.97</td>\n",
       "      <td>1/05</td>\n",
       "      <td>1</td>\n",
       "    </tr>\n",
       "  </tbody>\n",
       "</table>\n",
       "</div>"
      ],
      "text/plain": [
       "        Date  Rating Imdb  U.S. Viewers Million Season Episode  \\\n",
       "0 2008-01-20          9.1                  1.41           1/01   \n",
       "1 2008-01-27          8.7                  1.49           1/02   \n",
       "2 2008-02-10          8.8                  1.08           1/03   \n",
       "3 2008-02-17          8.3                  1.09           1/04   \n",
       "4 2008-02-24          8.4                  0.97           1/05   \n",
       "\n",
       "   Extracted Season  \n",
       "0                 1  \n",
       "1                 1  \n",
       "2                 1  \n",
       "3                 1  \n",
       "4                 1  "
      ]
     },
     "execution_count": 14,
     "metadata": {},
     "output_type": "execute_result"
    }
   ],
   "source": [
    "\n",
    "cols_to_drop = ['Title', 'Directed By', 'Written By', 'Duration Mins', 'Summary', 'Season', 'Episode']\n",
    "breaking_bad_cleaned = breaking_bad.drop(columns=cols_to_drop)\n",
    "breaking_bad_cleaned.head()"
   ]
  },
  {
   "cell_type": "markdown",
   "metadata": {},
   "source": [
    "Plotting the ratings info."
   ]
  },
  {
   "cell_type": "code",
   "execution_count": 15,
   "metadata": {},
   "outputs": [
    {
     "data": {
      "image/png": "[encoded data removed]",
      "text/plain": [
       "<Figure size 1200x600 with 1 Axes>"
      ]
     },
     "metadata": {},
     "output_type": "display_data"
    }
   ],
   "source": [
    "plt.figure(figsize=(12, 6))\n",
    "plt.plot(breaking_bad_cleaned['Date'], breaking_bad_cleaned['Rating Imdb'], marker='o', linestyle='-', color='b')\n",
    "plt.title('IMDB Rating by Episode', fontsize=16)\n",
    "plt.xlabel('Air Date', fontsize=12)\n",
    "plt.ylabel('IMDB Rating', fontsize=12)\n",
    "plt.grid(True)\n",
    "plt.show()"
   ]
  },
  {
   "cell_type": "markdown",
   "metadata": {},
   "source": [
    "Extract season data to make plot easier to read and seperate it by season."
   ]
  },
  {
   "cell_type": "code",
   "execution_count": 16,
   "metadata": {},
   "outputs": [
    {
     "data": {
      "text/html": [
       "<div>\n",
       "<style scoped>\n",
       "    .dataframe tbody tr th:only-of-type {\n",
       "        vertical-align: middle;\n",
       "    }\n",
       "\n",
       "    .dataframe tbody tr th {\n",
       "        vertical-align: top;\n",
       "    }\n",
       "\n",
       "    .dataframe thead th {\n",
       "        text-align: right;\n",
       "    }\n",
       "</style>\n",
       "<table border=\"1\" class=\"dataframe\">\n",
       "  <thead>\n",
       "    <tr style=\"text-align: right;\">\n",
       "      <th></th>\n",
       "      <th>Date</th>\n",
       "      <th>Rating Imdb</th>\n",
       "      <th>U.S. Viewers Million</th>\n",
       "      <th>Season Episode</th>\n",
       "      <th>Extracted Season</th>\n",
       "    </tr>\n",
       "  </thead>\n",
       "  <tbody>\n",
       "    <tr>\n",
       "      <th>0</th>\n",
       "      <td>2008-01-20</td>\n",
       "      <td>9.1</td>\n",
       "      <td>1.41</td>\n",
       "      <td>1/01</td>\n",
       "      <td>1</td>\n",
       "    </tr>\n",
       "    <tr>\n",
       "      <th>1</th>\n",
       "      <td>2008-01-27</td>\n",
       "      <td>8.7</td>\n",
       "      <td>1.49</td>\n",
       "      <td>1/02</td>\n",
       "      <td>1</td>\n",
       "    </tr>\n",
       "    <tr>\n",
       "      <th>2</th>\n",
       "      <td>2008-02-10</td>\n",
       "      <td>8.8</td>\n",
       "      <td>1.08</td>\n",
       "      <td>1/03</td>\n",
       "      <td>1</td>\n",
       "    </tr>\n",
       "    <tr>\n",
       "      <th>3</th>\n",
       "      <td>2008-02-17</td>\n",
       "      <td>8.3</td>\n",
       "      <td>1.09</td>\n",
       "      <td>1/04</td>\n",
       "      <td>1</td>\n",
       "    </tr>\n",
       "    <tr>\n",
       "      <th>4</th>\n",
       "      <td>2008-02-24</td>\n",
       "      <td>8.4</td>\n",
       "      <td>0.97</td>\n",
       "      <td>1/05</td>\n",
       "      <td>1</td>\n",
       "    </tr>\n",
       "    <tr>\n",
       "      <th>...</th>\n",
       "      <td>...</td>\n",
       "      <td>...</td>\n",
       "      <td>...</td>\n",
       "      <td>...</td>\n",
       "      <td>...</td>\n",
       "    </tr>\n",
       "    <tr>\n",
       "      <th>57</th>\n",
       "      <td>2013-09-01</td>\n",
       "      <td>9.2</td>\n",
       "      <td>4.41</td>\n",
       "      <td>5/12</td>\n",
       "      <td>5</td>\n",
       "    </tr>\n",
       "    <tr>\n",
       "      <th>58</th>\n",
       "      <td>2013-09-08</td>\n",
       "      <td>9.8</td>\n",
       "      <td>5.11</td>\n",
       "      <td>5/13</td>\n",
       "      <td>5</td>\n",
       "    </tr>\n",
       "    <tr>\n",
       "      <th>59</th>\n",
       "      <td>2013-09-15</td>\n",
       "      <td>10.0</td>\n",
       "      <td>6.37</td>\n",
       "      <td>5/14</td>\n",
       "      <td>5</td>\n",
       "    </tr>\n",
       "    <tr>\n",
       "      <th>60</th>\n",
       "      <td>2013-09-22</td>\n",
       "      <td>9.7</td>\n",
       "      <td>6.58</td>\n",
       "      <td>5/15</td>\n",
       "      <td>5</td>\n",
       "    </tr>\n",
       "    <tr>\n",
       "      <th>61</th>\n",
       "      <td>2013-09-29</td>\n",
       "      <td>9.9</td>\n",
       "      <td>10.28</td>\n",
       "      <td>5/16</td>\n",
       "      <td>5</td>\n",
       "    </tr>\n",
       "  </tbody>\n",
       "</table>\n",
       "<p>62 rows × 5 columns</p>\n",
       "</div>"
      ],
      "text/plain": [
       "         Date  Rating Imdb  U.S. Viewers Million Season Episode  \\\n",
       "0  2008-01-20          9.1                  1.41           1/01   \n",
       "1  2008-01-27          8.7                  1.49           1/02   \n",
       "2  2008-02-10          8.8                  1.08           1/03   \n",
       "3  2008-02-17          8.3                  1.09           1/04   \n",
       "4  2008-02-24          8.4                  0.97           1/05   \n",
       "..        ...          ...                   ...            ...   \n",
       "57 2013-09-01          9.2                  4.41           5/12   \n",
       "58 2013-09-08          9.8                  5.11           5/13   \n",
       "59 2013-09-15         10.0                  6.37           5/14   \n",
       "60 2013-09-22          9.7                  6.58           5/15   \n",
       "61 2013-09-29          9.9                 10.28           5/16   \n",
       "\n",
       "    Extracted Season  \n",
       "0                  1  \n",
       "1                  1  \n",
       "2                  1  \n",
       "3                  1  \n",
       "4                  1  \n",
       "..               ...  \n",
       "57                 5  \n",
       "58                 5  \n",
       "59                 5  \n",
       "60                 5  \n",
       "61                 5  \n",
       "\n",
       "[62 rows x 5 columns]"
      ]
     },
     "execution_count": 16,
     "metadata": {},
     "output_type": "execute_result"
    }
   ],
   "source": [
    "breaking_bad_cleaned['Extracted Season'] = breaking_bad_cleaned['Season Episode'].str.extract(r'(\\d+)/')[0].astype(int)\n",
    "\n",
    "breaking_bad_cleaned"
   ]
  },
  {
   "cell_type": "code",
   "execution_count": 17,
   "metadata": {},
   "outputs": [
    {
     "data": {
      "image/png": "[encoded data removed]",
      "text/plain": [
       "<Figure size 1200x600 with 1 Axes>"
      ]
     },
     "metadata": {},
     "output_type": "display_data"
    }
   ],
   "source": [
    "plt.figure(figsize=(12, 6))\n",
    "for season in breaking_bad_cleaned['Extracted Season'].unique():\n",
    "    season_data = breaking_bad_cleaned[breaking_bad_cleaned['Extracted Season'] == season]\n",
    "    plt.plot(season_data['Date'], season_data['Rating Imdb'], marker='o', linestyle='-', label=f'Season {season}')\n",
    "plt.title('IMDB Rating by Episode', fontsize=16)\n",
    "plt.xlabel('Air Date', fontsize=12)\n",
    "plt.ylabel('IMDb Rating', fontsize=12)\n",
    "plt.legend(title='Season')\n",
    "plt.grid(True)\n",
    "plt.show()"
   ]
  },
  {
   "cell_type": "markdown",
   "metadata": {},
   "source": [
    "An additional plot showing the viewership of the episodes."
   ]
  },
  {
   "cell_type": "code",
   "execution_count": 18,
   "metadata": {},
   "outputs": [
    {
     "data": {
      "image/png": "[encoded data removed]",
      "text/plain": [
       "<Figure size 1200x600 with 1 Axes>"
      ]
     },
     "metadata": {},
     "output_type": "display_data"
    }
   ],
   "source": [
    "plt.figure(figsize=(12, 6))\n",
    "plt.plot(breaking_bad_cleaned['Date'], breaking_bad_cleaned['U.S. Viewers Million'], marker='o', linestyle='-', color='g')\n",
    "plt.title('Viewership By Episode', fontsize=16)\n",
    "plt.xlabel('Air Date', fontsize=12)\n",
    "plt.ylabel('Viewers (Millions)', fontsize=12)\n",
    "plt.grid(True)\n",
    "plt.show()"
   ]
  }
 ],
 "metadata": {
  "kernelspec": {
   "display_name": "venv",
   "language": "python",
   "name": "python3"
  },
  "language_info": {
   "codemirror_mode": {
    "name": "ipython",
    "version": 3
   },
   "file_extension": ".py",
   "mimetype": "text/x-python",
   "name": "python",
   "nbconvert_exporter": "python",
   "pygments_lexer": "ipython3",
   "version": "3.13.0"
  }
 },
 "nbformat": 4,
 "nbformat_minor": 2
}
